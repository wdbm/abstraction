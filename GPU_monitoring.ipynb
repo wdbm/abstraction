{
 "cells": [
  {
   "cell_type": "code",
   "execution_count": 1,
   "metadata": {
    "collapsed": true
   },
   "outputs": [],
   "source": [
    "import numpy as np\n",
    "import datetime\n",
    "from matplotlib import gridspec\n",
    "from matplotlib.ticker import NullFormatter, NullLocator, MultipleLocator\n",
    "import matplotlib.pylab as plt\n",
    "import pandas as pd\n",
    "import seaborn as sns\n",
    "sns.set_palette('husl')\n",
    "sns.set(style='ticks')"
   ]
  },
  {
   "cell_type": "code",
   "execution_count": 2,
   "metadata": {
    "collapsed": true
   },
   "outputs": [],
   "source": [
    "%matplotlib inline\n",
    "plt.rcParams['figure.figsize'] = [17, 10]"
   ]
  },
  {
   "cell_type": "code",
   "execution_count": 3,
   "metadata": {},
   "outputs": [
    {
     "data": {
      "text/html": [
       "<div>\n",
       "<style scoped>\n",
       "    .dataframe tbody tr th:only-of-type {\n",
       "        vertical-align: middle;\n",
       "    }\n",
       "\n",
       "    .dataframe tbody tr th {\n",
       "        vertical-align: top;\n",
       "    }\n",
       "\n",
       "    .dataframe thead th {\n",
       "        text-align: right;\n",
       "    }\n",
       "</style>\n",
       "<table border=\"1\" class=\"dataframe\">\n",
       "  <thead>\n",
       "    <tr style=\"text-align: right;\">\n",
       "      <th></th>\n",
       "      <th>datetime</th>\n",
       "      <th>GPU_name</th>\n",
       "      <th>GPU_temperature_C</th>\n",
       "      <th>GPU_power_draw_W</th>\n",
       "      <th>GPU_memory_used_MiB</th>\n",
       "      <th>GPU_memory_total_MiB</th>\n",
       "      <th>GPU_utilization_%</th>\n",
       "    </tr>\n",
       "    <tr>\n",
       "      <th>datetime</th>\n",
       "      <th></th>\n",
       "      <th></th>\n",
       "      <th></th>\n",
       "      <th></th>\n",
       "      <th></th>\n",
       "      <th></th>\n",
       "      <th></th>\n",
       "    </tr>\n",
       "  </thead>\n",
       "  <tbody>\n",
       "    <tr>\n",
       "      <th>2019-06-21 15:32:48</th>\n",
       "      <td>2019-06-21 15:32:48</td>\n",
       "      <td>GeForce GTX 1070</td>\n",
       "      <td>35</td>\n",
       "      <td>5.07</td>\n",
       "      <td>103.0</td>\n",
       "      <td>8119.0</td>\n",
       "      <td>0.0</td>\n",
       "    </tr>\n",
       "    <tr>\n",
       "      <th>2019-06-21 15:32:49</th>\n",
       "      <td>2019-06-21 15:32:49</td>\n",
       "      <td>GeForce GTX 1070</td>\n",
       "      <td>35</td>\n",
       "      <td>5.23</td>\n",
       "      <td>103.0</td>\n",
       "      <td>8119.0</td>\n",
       "      <td>0.0</td>\n",
       "    </tr>\n",
       "    <tr>\n",
       "      <th>2019-06-21 15:32:50</th>\n",
       "      <td>2019-06-21 15:32:50</td>\n",
       "      <td>GeForce GTX 1070</td>\n",
       "      <td>35</td>\n",
       "      <td>5.39</td>\n",
       "      <td>103.0</td>\n",
       "      <td>8119.0</td>\n",
       "      <td>0.0</td>\n",
       "    </tr>\n",
       "    <tr>\n",
       "      <th>2019-06-21 15:32:51</th>\n",
       "      <td>2019-06-21 15:32:51</td>\n",
       "      <td>GeForce GTX 1070</td>\n",
       "      <td>35</td>\n",
       "      <td>5.22</td>\n",
       "      <td>103.0</td>\n",
       "      <td>8119.0</td>\n",
       "      <td>0.0</td>\n",
       "    </tr>\n",
       "    <tr>\n",
       "      <th>2019-06-21 15:32:52</th>\n",
       "      <td>2019-06-21 15:32:52</td>\n",
       "      <td>GeForce GTX 1070</td>\n",
       "      <td>34</td>\n",
       "      <td>5.07</td>\n",
       "      <td>103.0</td>\n",
       "      <td>8119.0</td>\n",
       "      <td>0.0</td>\n",
       "    </tr>\n",
       "  </tbody>\n",
       "</table>\n",
       "</div>"
      ],
      "text/plain": [
       "                               datetime           GPU_name  GPU_temperature_C  \\\n",
       "datetime                                                                        \n",
       "2019-06-21 15:32:48 2019-06-21 15:32:48   GeForce GTX 1070                 35   \n",
       "2019-06-21 15:32:49 2019-06-21 15:32:49   GeForce GTX 1070                 35   \n",
       "2019-06-21 15:32:50 2019-06-21 15:32:50   GeForce GTX 1070                 35   \n",
       "2019-06-21 15:32:51 2019-06-21 15:32:51   GeForce GTX 1070                 35   \n",
       "2019-06-21 15:32:52 2019-06-21 15:32:52   GeForce GTX 1070                 34   \n",
       "\n",
       "                     GPU_power_draw_W  GPU_memory_used_MiB  \\\n",
       "datetime                                                     \n",
       "2019-06-21 15:32:48              5.07                103.0   \n",
       "2019-06-21 15:32:49              5.23                103.0   \n",
       "2019-06-21 15:32:50              5.39                103.0   \n",
       "2019-06-21 15:32:51              5.22                103.0   \n",
       "2019-06-21 15:32:52              5.07                103.0   \n",
       "\n",
       "                     GPU_memory_total_MiB  GPU_utilization_%  \n",
       "datetime                                                      \n",
       "2019-06-21 15:32:48                8119.0                0.0  \n",
       "2019-06-21 15:32:49                8119.0                0.0  \n",
       "2019-06-21 15:32:50                8119.0                0.0  \n",
       "2019-06-21 15:32:51                8119.0                0.0  \n",
       "2019-06-21 15:32:52                8119.0                0.0  "
      ]
     },
     "execution_count": 3,
     "metadata": {},
     "output_type": "execute_result"
    }
   ],
   "source": [
    "df = pd.read_csv(\n",
    "    'record.log',\n",
    "    names = [\n",
    "        'datetime',\n",
    "        'GPU_name',\n",
    "        'GPU_temperature_C',\n",
    "        'GPU_power_draw_W',\n",
    "        'GPU_memory_used_MiB',\n",
    "        'GPU_memory_total_MiB',\n",
    "        'GPU_utilization_%'\n",
    "    ]\n",
    ")\n",
    "df['datetime']             = pd.to_datetime(df['datetime'])\n",
    "df.index                   = df['datetime']\n",
    "df['GPU_power_draw_W']     = df['GPU_power_draw_W'].str.replace(' W', '').astype(float)\n",
    "df['GPU_memory_used_MiB']  = df['GPU_memory_used_MiB'].str.replace(' MiB', '').astype(float)\n",
    "df['GPU_memory_total_MiB'] = df['GPU_memory_total_MiB'].str.replace(' MiB', '').astype(float)\n",
    "df['GPU_utilization_%']    = df['GPU_utilization_%'].str.replace(' %', '').astype(float)\n",
    "df.head()"
   ]
  },
  {
   "cell_type": "code",
   "execution_count": 4,
   "metadata": {},
   "outputs": [
    {
     "name": "stderr",
     "output_type": "stream",
     "text": [
      "/usr/local/lib/python3.5/dist-packages/pandas/plotting/_core.py:1716: UserWarning: Pandas doesn't allow columns to be created via a new attribute name - see https://pandas.pydata.org/pandas-docs/stable/indexing.html#attribute-access\n",
      "  series.name = label\n"
     ]
    },
    {
     "data": {
      "image/png": "[encoded data removed]",
      "text/plain": [
       "<Figure size 1224x720 with 1 Axes>"
      ]
     },
     "metadata": {},
     "output_type": "display_data"
    }
   ],
   "source": [
    "df.plot(y=['GPU_temperature_C']);"
   ]
  },
  {
   "cell_type": "code",
   "execution_count": null,
   "metadata": {
    "collapsed": true
   },
   "outputs": [],
   "source": []
  }
 ],
 "metadata": {
  "kernelspec": {
   "display_name": "Python 3",
   "language": "python",
   "name": "python3"
  },
  "language_info": {
   "codemirror_mode": {
    "name": "ipython",
    "version": 3
   },
   "file_extension": ".py",
   "mimetype": "text/x-python",
   "name": "python",
   "nbconvert_exporter": "python",
   "pygments_lexer": "ipython3",
   "version": "3.5.2"
  }
 },
 "nbformat": 4,
 "nbformat_minor": 2
}
